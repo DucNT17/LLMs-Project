{
  "nbformat": 4,
  "nbformat_minor": 0,
  "metadata": {
    "colab": {
      "provenance": [],
      "gpuType": "T4",
      "include_colab_link": true
    },
    "kernelspec": {
      "name": "python3",
      "display_name": "Python 3"
    },
    "language_info": {
      "name": "python"
    },
    "accelerator": "GPU"
  },
  "cells": [
    {
      "cell_type": "markdown",
      "metadata": {
        "id": "view-in-github",
        "colab_type": "text"
      },
      "source": [
        "<a href=\"https://colab.research.google.com/github/DucNT17/LLMs-Project/blob/main/Exercise_Resnet18_20epochs.ipynb\" target=\"_parent\"><img src=\"https://colab.research.google.com/assets/colab-badge.svg\" alt=\"Open In Colab\"/></a>"
      ]
    },
    {
      "cell_type": "markdown",
      "source": [
        "# Bài thực hành với self-supervised learning\n",
        "Đây là bài thực hành và ví dụ đối với tác vụ self-supervising learning với pretext task là việc xoay ảnh 4 góc cũng như tác vụ downstream task là việc phân loại ảnh. CSDL được sử dụng là CIAR-10.\n",
        "\n",
        "Yêu cầu đối với bài thực hành này  gồm:\n",
        "\n",
        "1. Thực hiện chạy các bước khi áp dụng self-supervised learning để huấn luyện\n",
        "encoder bằng pretext task --> Sử dụng pretrained encoder để huấn luyện downstream task --> Đánh giá kết quả mô hình huấn luyện\n",
        "2. Thực hiện một số tác vụ bổ sung. Trước hết, huấn luyện một mô hình phân loại (cùng cấu trúc) không sử dụng self-supervised và so sánh kết quả khi so với mô hình có áp dụng self-supervised trước đó (Bước 6)\n",
        "3. Hiển thị ngẫu nhiên kết quả phân loại 10 ảnh trong CSDL ảnh CIFAR. Yêu cầu thực hiện lấy ngẫu nhiên theo seed = 42 (khi dùng hàm torch.manual_seed và numpy.manual_seed) (Bước 7 và 8)\n",
        "4. Tăng số epoch lên 20, 30,... và đánh giá lại kết quả phân loại qua báo cáo\n",
        "5. Thử thay thế SmallCNN Encoder trong ví dụ mẫu bằng một (vài) mô hình khác (như Resnet18, MobileNetV2, EfficientNet-B0, ....) cho bài toán phân loại đã thực hiện. Viết báo cáo đánh giá kết quả thực hiện bài toán phân loại CSDL CIFAR10 với những mô hình này (có và không sử dụng self-supervised)\n",
        "\n",
        "Lưu ý: Với yêu cầu số 5, thời gian huấn luyện self-supervised với pretext task có thể sẽ lâu\n",
        "\n"
      ],
      "metadata": {
        "id": "TpARqUbB6Krq"
      }
    },
    {
      "source": [
        "from torchvision.models import resnet18"
      ],
      "cell_type": "code",
      "metadata": {
        "id": "Jmod6HB0k_ha"
      },
      "execution_count": null,
      "outputs": []
    },
    {
      "cell_type": "code",
      "execution_count": null,
      "metadata": {
        "id": "_nHnBmW86JqR"
      },
      "outputs": [],
      "source": [
        "import torch\n",
        "import torch.nn as nn\n",
        "import torch.optim as optim\n",
        "import torchvision.transforms as transforms\n",
        "import torchvision.datasets as datasets\n",
        "from torch.utils.data import DataLoader\n",
        "import random\n",
        "import torch.cuda.amp as amp  # For mixed precision training\n",
        "\n",
        "# Tối ưu hóa cuDNN cho hiệu suất tốt hơn\n",
        "torch.backends.cudnn.benchmark = True\n",
        "\n",
        "# Define rotation transformation\n",
        "class RotationTransform:\n",
        "    \"\"\"Rotate an image by one of the given angles.\"\"\"\n",
        "    def __init__(self, angles=[0, 90, 180, 270]):\n",
        "        self.angles = angles\n",
        "\n",
        "    def __call__(self, x):\n",
        "        angle = random.choice(self.angles)\n",
        "        return transforms.functional.rotate(x, angle), self.angles.index(angle)\n",
        "\n",
        "# Define Resnet18\n",
        "class ResNet18Encoder(nn.Module):\n",
        "    def __init__(self):\n",
        "        super(ResNet18Encoder, self).__init__()\n",
        "        self.resnet18 = resnet18(pretrained=True) # Sử dụng pre-trained weights, giúp mô hình có sẵn các đặc trưng mạnh mẽ\n",
        "        self.resnet18.fc = nn.Identity() #loại bỏ lớp phân loại cuối cùng và chỉ giữ lại đầu ra đặc trưng\n",
        "\n",
        "    def forward(self, x):\n",
        "        x = self.resnet18(x)\n",
        "        return x\n",
        "\n",
        "class RotationPredictionModel(nn.Module):\n",
        "    def __init__(self, encoder):\n",
        "        super(RotationPredictionModel, self).__init__()\n",
        "        self.encoder = encoder\n",
        "        self.fc = nn.Linear(512, 4)  # 256 is the output size of SmallCNN, 4 classes for rotation (0°, 90°, 180°, 270°)\n",
        "\n",
        "    def forward(self, x):\n",
        "        features = self.encoder(x)\n",
        "        out = self.fc(features)\n",
        "        return out\n"
      ]
    },
    {
      "cell_type": "markdown",
      "source": [
        "**Bước 2: Chuẩn bị dữ liệu với CIFAR-10**"
      ],
      "metadata": {
        "id": "egXirdV-HIiO"
      }
    },
    {
      "cell_type": "code",
      "source": [
        "# Load CIFAR-10 dataset with rotation transformation\n",
        "transform = transforms.Compose([\n",
        "    transforms.Resize(32),  # CIFAR-10 images are 32x32\n",
        "    transforms.ToTensor()\n",
        "])\n",
        "\n",
        "rotation_transform = RotationTransform()\n",
        "\n",
        "# Load dataset with rotation\n",
        "train_dataset = datasets.CIFAR10(root='./data', train=True, download=True, transform=transform)\n",
        "\n",
        "# Apply rotation transformation\n",
        "class RotationDataset(torch.utils.data.Dataset):\n",
        "    def __init__(self, base_dataset, rotation_transform):\n",
        "        self.base_dataset = base_dataset\n",
        "        self.rotation_transform = rotation_transform\n",
        "\n",
        "    def __getitem__(self, index):\n",
        "        img, _ = self.base_dataset[index]\n",
        "        rotated_img, rotation_label = self.rotation_transform(img)\n",
        "        return rotated_img, rotation_label\n",
        "\n",
        "    def __len__(self):\n",
        "        return len(self.base_dataset)\n",
        "\n",
        "rotation_train_dataset = RotationDataset(train_dataset, rotation_transform)\n",
        "rotation_train_loader = DataLoader(rotation_train_dataset, batch_size=256, shuffle=True, num_workers=4, pin_memory=True)\n"
      ],
      "metadata": {
        "colab": {
          "base_uri": "https://localhost:8080/"
        },
        "id": "0kjyAzrCHIvE",
        "outputId": "70e7e15e-f963-4902-cd97-5e73d7c79a60"
      },
      "execution_count": null,
      "outputs": [
        {
          "output_type": "stream",
          "name": "stdout",
          "text": [
            "Downloading https://www.cs.toronto.edu/~kriz/cifar-10-python.tar.gz to ./data/cifar-10-python.tar.gz\n"
          ]
        },
        {
          "output_type": "stream",
          "name": "stderr",
          "text": [
            "100%|██████████| 170M/170M [00:06<00:00, 28.0MB/s]\n"
          ]
        },
        {
          "output_type": "stream",
          "name": "stdout",
          "text": [
            "Extracting ./data/cifar-10-python.tar.gz to ./data\n"
          ]
        },
        {
          "output_type": "stream",
          "name": "stderr",
          "text": [
            "/usr/local/lib/python3.10/dist-packages/torch/utils/data/dataloader.py:617: UserWarning: This DataLoader will create 4 worker processes in total. Our suggested max number of worker in current system is 2, which is smaller than what this DataLoader is going to create. Please be aware that excessive worker creation might get DataLoader running slow or even freeze, lower the worker number to avoid potential slowness/freeze if necessary.\n",
            "  warnings.warn(\n"
          ]
        }
      ]
    },
    {
      "cell_type": "markdown",
      "source": [
        "**Bước 3: Huấn luyện Pretext Task với Resnet18**\n",
        "\n",
        "Hãy kiên nhẫn vì thời gian huấn luyện mỗi epoch có thể sẽ khá lâu\n"
      ],
      "metadata": {
        "id": "Ulp_xOzf6oYD"
      }
    },
    {
      "cell_type": "code",
      "source": [
        "# Initialize the Resnet encoder and pretext task model\n",
        "encoder = ResNet18Encoder()\n",
        "rotation_model = RotationPredictionModel(encoder)\n",
        "rotation_model = rotation_model.cuda()\n",
        "\n",
        "# Define loss and optimizer\n",
        "criterion = nn.CrossEntropyLoss()\n",
        "optimizer = optim.Adam(rotation_model.parameters(), lr=0.001)\n",
        "\n",
        "# Train the rotation prediction model using mixed precision for faster training\n",
        "scaler = amp.GradScaler()  # For mixed precision training\n",
        "\n",
        "def train_rotation_model(model, dataloader, criterion, optimizer, scaler, epochs=10):\n",
        "    model.train()\n",
        "    for epoch in range(epochs):\n",
        "        total_loss = 0\n",
        "        for images, labels in dataloader:\n",
        "            images, labels = images.cuda(), labels.cuda()\n",
        "            with amp.autocast():  # Enable mixed precision\n",
        "                outputs = model(images)\n",
        "                loss = criterion(outputs, labels)\n",
        "\n",
        "            optimizer.zero_grad()\n",
        "            scaler.scale(loss).backward()\n",
        "            scaler.step(optimizer)\n",
        "            scaler.update()\n",
        "\n",
        "            total_loss += loss.item()\n",
        "\n",
        "        print(f'Epoch [{epoch+1}/{epochs}], Loss: {total_loss/len(dataloader)}')\n",
        "\n",
        "# Train for 10 epochs\n",
        "train_rotation_model(rotation_model, rotation_train_loader, criterion, optimizer, scaler, epochs=10)\n"
      ],
      "metadata": {
        "colab": {
          "base_uri": "https://localhost:8080/"
        },
        "id": "8EXi_yCl6mpB",
        "outputId": "ee6c82bf-1083-4e42-d895-0b8a40ebfc31"
      },
      "execution_count": null,
      "outputs": [
        {
          "output_type": "stream",
          "name": "stderr",
          "text": [
            "/usr/local/lib/python3.10/dist-packages/torchvision/models/_utils.py:208: UserWarning: The parameter 'pretrained' is deprecated since 0.13 and may be removed in the future, please use 'weights' instead.\n",
            "  warnings.warn(\n",
            "/usr/local/lib/python3.10/dist-packages/torchvision/models/_utils.py:223: UserWarning: Arguments other than a weight enum or `None` for 'weights' are deprecated since 0.13 and may be removed in the future. The current behavior is equivalent to passing `weights=ResNet18_Weights.IMAGENET1K_V1`. You can also use `weights=ResNet18_Weights.DEFAULT` to get the most up-to-date weights.\n",
            "  warnings.warn(msg)\n",
            "Downloading: \"https://download.pytorch.org/models/resnet18-f37072fd.pth\" to /root/.cache/torch/hub/checkpoints/resnet18-f37072fd.pth\n",
            "100%|██████████| 44.7M/44.7M [00:00<00:00, 124MB/s]\n",
            "<ipython-input-5-968cc4e0427d>:11: FutureWarning: `torch.cuda.amp.GradScaler(args...)` is deprecated. Please use `torch.amp.GradScaler('cuda', args...)` instead.\n",
            "  scaler = amp.GradScaler()  # For mixed precision training\n",
            "<ipython-input-5-968cc4e0427d>:19: FutureWarning: `torch.cuda.amp.autocast(args...)` is deprecated. Please use `torch.amp.autocast('cuda', args...)` instead.\n",
            "  with amp.autocast():  # Enable mixed precision\n"
          ]
        },
        {
          "output_type": "stream",
          "name": "stdout",
          "text": [
            "Epoch [1/10], Loss: 0.8262286237916168\n",
            "Epoch [2/10], Loss: 0.6253731033327629\n",
            "Epoch [3/10], Loss: 0.5532010992874905\n",
            "Epoch [4/10], Loss: 0.5058146528139407\n",
            "Epoch [5/10], Loss: 0.469492001801121\n",
            "Epoch [6/10], Loss: 0.4387537272913115\n",
            "Epoch [7/10], Loss: 0.4153479095928523\n",
            "Epoch [8/10], Loss: 0.3928348881249525\n",
            "Epoch [9/10], Loss: 0.37021866851315205\n",
            "Epoch [10/10], Loss: 0.35431349429549003\n"
          ]
        }
      ]
    },
    {
      "cell_type": "code",
      "source": [
        "encoder_path = \"resnet_encoder_pretext.pth\"\n",
        "torch.save(encoder.state_dict(), encoder_path)\n",
        "print(f\"Encoder saved to {encoder_path}\")"
      ],
      "metadata": {
        "colab": {
          "base_uri": "https://localhost:8080/"
        },
        "id": "fApAybM7_l6P",
        "outputId": "71218881-be6c-440a-ad42-0d8833980602"
      },
      "execution_count": null,
      "outputs": [
        {
          "output_type": "stream",
          "name": "stdout",
          "text": [
            "Encoder saved to resnet_encoder_pretext.pth\n"
          ]
        }
      ]
    },
    {
      "cell_type": "markdown",
      "source": [
        "**Bước 4: Áp dụng Encoder vào Downstream Task (phân loại CIFAR-10)**"
      ],
      "metadata": {
        "id": "iwZVeNmT6xWv"
      }
    },
    {
      "cell_type": "code",
      "source": [
        "# Define a classifier for CIFAR-10 using the pre-trained encoder\n",
        "class CIFAR10Classifier(nn.Module):\n",
        "    def __init__(self, encoder, num_classes=10):\n",
        "        super(CIFAR10Classifier, self).__init__()\n",
        "        self.encoder = encoder\n",
        "        self.fc = nn.Linear(512, num_classes)  # 256 là số lượng đặc trưng đầu ra của SmallCNN\n",
        "\n",
        "    def forward(self, x):\n",
        "        with torch.no_grad():\n",
        "            features = self.encoder(x)  # Freeze encoder weights during fine-tuning\n",
        "        out = self.fc(features)\n",
        "        return out\n",
        "\n",
        "# Prepare the CIFAR-10 training dataset (without rotation)\n",
        "train_transform = transforms.Compose([\n",
        "    transforms.Resize(32),\n",
        "    transforms.ToTensor(),\n",
        "    transforms.Normalize((0.5, 0.5, 0.5), (0.5, 0.5, 0.5))\n",
        "])\n",
        "\n",
        "cifar10_train_dataset = datasets.CIFAR10(root='./data', train=True, download=True, transform=train_transform)\n",
        "cifar10_train_loader = DataLoader(cifar10_train_dataset, batch_size=256, shuffle=True, num_workers=4, pin_memory=True)\n",
        "\n",
        "# Initialize the classifier using the pre-trained SmallCNN encoder\n",
        "cifar10_classifier = CIFAR10Classifier(encoder=encoder).cuda()\n",
        "\n",
        "# Define loss and optimizer for downstream task\n",
        "criterion = nn.CrossEntropyLoss()\n",
        "optimizer = optim.Adam(cifar10_classifier.parameters(), lr=0.001)\n",
        "\n",
        "# Train the classifier on CIFAR-10\n",
        "def train_cifar10_classifier(model, dataloader, criterion, optimizer, epochs=10):\n",
        "    model.train()\n",
        "    for epoch in range(epochs):\n",
        "        total_loss = 0\n",
        "        for images, labels in dataloader:\n",
        "            images, labels = images.cuda(), labels.cuda()\n",
        "            outputs = model(images)\n",
        "            loss = criterion(outputs, labels)\n",
        "\n",
        "            optimizer.zero_grad()\n",
        "            loss.backward()\n",
        "            optimizer.step()\n",
        "            total_loss += loss.item()\n",
        "\n",
        "        print(f'Epoch [{epoch+1}/{epochs}], Loss: {total_loss/len(dataloader)}')\n",
        "\n",
        "# Train for 10 epochs\n",
        "train_cifar10_classifier(cifar10_classifier, cifar10_train_loader, criterion, optimizer, epochs=20)\n"
      ],
      "metadata": {
        "id": "rDHv9ntH61Bg",
        "colab": {
          "base_uri": "https://localhost:8080/"
        },
        "outputId": "90eef328-7f5d-4b80-ed35-519ee4c897ac"
      },
      "execution_count": null,
      "outputs": [
        {
          "output_type": "stream",
          "name": "stdout",
          "text": [
            "Files already downloaded and verified\n",
            "Epoch [1/20], Loss: 1.9249487178666251\n",
            "Epoch [2/20], Loss: 1.6813867450976858\n",
            "Epoch [3/20], Loss: 1.5859408998975948\n",
            "Epoch [4/20], Loss: 1.5294250262026885\n",
            "Epoch [5/20], Loss: 1.494166410090972\n",
            "Epoch [6/20], Loss: 1.4660105182200063\n",
            "Epoch [7/20], Loss: 1.442297945825421\n",
            "Epoch [8/20], Loss: 1.423662891193312\n",
            "Epoch [9/20], Loss: 1.4086800539980129\n",
            "Epoch [10/20], Loss: 1.3931876463549477\n",
            "Epoch [11/20], Loss: 1.3840125750522225\n",
            "Epoch [12/20], Loss: 1.3710687403776207\n",
            "Epoch [13/20], Loss: 1.3610655951256654\n",
            "Epoch [14/20], Loss: 1.3562830114851192\n",
            "Epoch [15/20], Loss: 1.3494212980173073\n",
            "Epoch [16/20], Loss: 1.3412247914440778\n",
            "Epoch [17/20], Loss: 1.33446603101127\n",
            "Epoch [18/20], Loss: 1.3288465294302727\n",
            "Epoch [19/20], Loss: 1.3216681796677259\n",
            "Epoch [20/20], Loss: 1.3194363609868653\n"
          ]
        }
      ]
    },
    {
      "cell_type": "code",
      "source": [
        "model_path = \"resnet18_classification_cifar10.pth\"\n",
        "torch.save(cifar10_classifier.state_dict(), model_path)\n",
        "print(f\"Classification model saved to {encoder_path}\")"
      ],
      "metadata": {
        "colab": {
          "base_uri": "https://localhost:8080/"
        },
        "id": "idEAGrJeHjjE",
        "outputId": "e491d374-4e2e-464a-bcd7-9367ae7c8d93"
      },
      "execution_count": null,
      "outputs": [
        {
          "output_type": "stream",
          "name": "stdout",
          "text": [
            "Classification model saved to resnet_encoder_pretext.pth\n"
          ]
        }
      ]
    },
    {
      "cell_type": "markdown",
      "source": [
        "**Bước 5: Đánh giá mô hình trên tập dữ liệu kiểm tra**"
      ],
      "metadata": {
        "id": "O3CQBPl96-1P"
      }
    },
    {
      "cell_type": "code",
      "source": [
        "# Load the CIFAR-10 test dataset\n",
        "cifar10_test_dataset = datasets.CIFAR10(root='./data', train=False, download=True, transform=train_transform)\n",
        "cifar10_test_loader = DataLoader(cifar10_test_dataset, batch_size=256, shuffle=False, num_workers=4, pin_memory=True)\n",
        "\n",
        "# Evaluate the classifier\n",
        "def evaluate_model(model, dataloader):\n",
        "    model.eval()\n",
        "    correct = 0\n",
        "    total = 0\n",
        "    with torch.no_grad():\n",
        "        for images, labels in dataloader:\n",
        "            images, labels = images.cuda(), labels.cuda()\n",
        "            outputs = model(images)\n",
        "            _, predicted = torch.max(outputs.data, 1)\n",
        "            total += labels.size(0)\n",
        "            correct += (predicted == labels).sum().item()\n",
        "\n",
        "    accuracy = 100 * correct / total\n",
        "    print(f'Accuracy: {accuracy:.2f}%')\n",
        "\n",
        "# Evaluate on test data\n",
        "print(\"Accuracy of classifier with Self-Learning Resnet Encoder:\")\n",
        "evaluate_model(cifar10_classifier, cifar10_test_loader)\n"
      ],
      "metadata": {
        "id": "m4Svov8p7Abq",
        "colab": {
          "base_uri": "https://localhost:8080/"
        },
        "outputId": "a327b0f3-2ea5-4917-d64c-d77d454b1134"
      },
      "execution_count": null,
      "outputs": [
        {
          "output_type": "stream",
          "name": "stdout",
          "text": [
            "Files already downloaded and verified\n",
            "Accuracy of classifier with Self-Learning Resnet Encoder:\n",
            "Accuracy: 52.45%\n"
          ]
        }
      ]
    },
    {
      "cell_type": "markdown",
      "source": [
        "**Bước 7. Hiển thị thử nghiệm 10 ảnh phân loại từ CSDL CIFAR-10 với mô hình huấn luyện có dùng self-supervised learning**"
      ],
      "metadata": {
        "id": "qZKb_nq8MgZJ"
      }
    },
    {
      "cell_type": "code",
      "source": [
        "# ---------------------------WRITE DOWN YOUR CODE HERE--------------------------\n",
        "import matplotlib.pyplot as plt\n",
        "# Load the CIFAR-10 test dataset\n",
        "cifar10_test_dataset = datasets.CIFAR10(root='./data', train=False, download=True, transform=train_transform)\n",
        "cifar10_test_loader = DataLoader(cifar10_test_dataset, batch_size=10, shuffle=False, num_workers=4, pin_memory=True)\n",
        "images, labels = next(iter(cifar10_test_loader))\n",
        "\n",
        "# Evaluate the classifier\n",
        "def evaluate_model(model, dataloader):\n",
        "    model.eval()\n",
        "    correct = 0\n",
        "    total = 0\n",
        "    with torch.no_grad():\n",
        "        for images, labels in dataloader:\n",
        "            images, labels = images.cuda(), labels.cuda()\n",
        "            outputs = model(images)\n",
        "            _, predicted = torch.max(outputs.data, 1)\n",
        "            total += labels.size(0)\n",
        "            correct += (predicted == labels).sum().item()\n",
        "\n",
        "    accuracy = 100 * correct / total\n",
        "    print(f'Accuracy: {accuracy:.2f}%')\n",
        "    # Hiển thị ảnh và nhãn dự đoán\n",
        "    classes = cifar10_test_dataset.classes # Lấy danh sách các lớp\n",
        "    fig, axes = plt.subplots(2, 5, figsize=(12, 6))\n",
        "    for i, ax in enumerate(axes.flat):\n",
        "        ax.imshow(images[i].cpu().permute(1, 2, 0).numpy() / 2 + 0.5)  # Hiển thị ảnh\n",
        "        ax.set_title(f\"Pre: {classes[predicted[i]]},\\n Act: {classes[labels[i]]}\") # Hiển thị nhãn dự đoán và nhãn thực tế\n",
        "        ax.axis('off')\n",
        "\n",
        "    plt.show()\n",
        "\n",
        "# Evaluate on test data\n",
        "print(\"Accuracy of classifier with Self-Learning Resnet Encoder:\")\n",
        "evaluate_model(cifar10_classifier, cifar10_test_loader)\n",
        "#---------------------------YOUR CODE END HERE----------------------------------"
      ],
      "metadata": {
        "colab": {
          "base_uri": "https://localhost:8080/",
          "height": 546
        },
        "id": "9EuWrKQ8MmhL",
        "outputId": "71de5e17-412c-40ee-f939-9539d3548285"
      },
      "execution_count": null,
      "outputs": [
        {
          "output_type": "stream",
          "name": "stdout",
          "text": [
            "Files already downloaded and verified\n",
            "Accuracy of classifier with Self-Learning Resnet Encoder:\n",
            "Accuracy: 52.45%\n"
          ]
        },
        {
          "output_type": "display_data",
          "data": {
            "text/plain": [
              "<Figure size 1200x600 with 10 Axes>"
            ],
            "image/png": "[encoded data removed]"
          },
          "metadata": {}
        }
      ]
    }
  ]
}